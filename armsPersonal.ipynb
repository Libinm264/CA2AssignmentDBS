{
  "nbformat": 4,
  "nbformat_minor": 0,
  "metadata": {
    "colab": {
      "name": "armsPersonal.ipynb",
      "version": "0.3.2",
      "provenance": [],
      "collapsed_sections": []
    },
    "kernelspec": {
      "name": "python3",
      "display_name": "Python 3"
    }
  },
  "cells": [
    {
      "cell_type": "code",
      "metadata": {
        "id": "EzbCtCEVzECh",
        "colab_type": "code",
        "colab": {}
      },
      "source": [
        "from google.colab import drive \n",
        "drive.mount('/content/gdrive')"
      ],
      "execution_count": 0,
      "outputs": []
    },
    {
      "cell_type": "code",
      "metadata": {
        "id": "XilmuhCLzK8K",
        "colab_type": "code",
        "colab": {
          "base_uri": "https://localhost:8080/",
          "height": 34
        },
        "outputId": "08d03173-5e29-4e2b-bb68-3a545949447b"
      },
      "source": [
        "import pandas as pd \n",
        "df=pd.read_csv('gdrive/My Drive/CA2Visualization/Armed.csv')\n",
        "ArmsImport=pd.read_csv('gdrive/My Drive/CA2Visualization/ArmsImports.csv')\n",
        "\n",
        "Arms=pd.read_csv('gdrive/My Drive/CA2Visualization/Arms.csv')\n",
        "\n",
        "import altair as alt\n",
        "\n",
        "alt.data_transformers.disable_max_rows()"
      ],
      "execution_count": 1,
      "outputs": [
        {
          "output_type": "execute_result",
          "data": {
            "text/plain": [
              "DataTransformerRegistry.enable('default')"
            ]
          },
          "metadata": {
            "tags": []
          },
          "execution_count": 1
        }
      ]
    },
    {
      "cell_type": "code",
      "metadata": {
        "id": "VvCspuNXzPrq",
        "colab_type": "code",
        "colab": {}
      },
      "source": [
        "\n",
        "\n",
        "lines = alt.Chart(df).mark_line().encode(\n",
        "  x=alt.X('Year:Q', scale=alt.Scale(domain=[1960, 2018])),\n",
        "  y='Armed Force Personnel',\n",
        "  color='Country'\n",
        ").properties(\n",
        "  width=800\n",
        ").interactive(bind_x=True)\n",
        "\n",
        "\n",
        "interval = alt.selection_interval()\n",
        "\n",
        "base = alt.Chart(Arms).mark_point().encode(\n",
        "  y=alt.X('Year:Q', scale=alt.Scale(domain=[1960, 2018])),\n",
        "  color=alt.condition(interval, 'Country', alt.value('lightgray'))\n",
        ").properties(\n",
        "  selection=interval\n",
        ")\n",
        "\n",
        "(base.encode(x='Arms Export') | base.encode(x='Arms Import')) & (lines)\n",
        "\n"
      ],
      "execution_count": 0,
      "outputs": []
    }
  ]
}